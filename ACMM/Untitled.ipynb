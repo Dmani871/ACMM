{
 "cells": [
  {
   "cell_type": "code",
   "execution_count": 2,
   "metadata": {},
   "outputs": [],
   "source": [
    "\n",
    "import pandas as pd\n",
    "import numpy as np\n",
    "from collections import Counter\n",
    "from copy import copy"
   ]
  },
  {
   "cell_type": "code",
   "execution_count": 3,
   "metadata": {},
   "outputs": [],
   "source": [
    "man_list = ['a', 'b', 'c', 'd']\n",
    "women_list = ['A', 'B', 'C', 'D']"
   ]
  },
  {
   "cell_type": "code",
   "execution_count": 4,
   "metadata": {},
   "outputs": [],
   "source": [
    "women_df = pd.DataFrame({'A': [3,4,2,1], 'B': [3,1,4,2], 'C':[2,3,4,1], 'D':[3,2,1,4]})\n",
    "women_df.index = man_list"
   ]
  },
  {
   "cell_type": "code",
   "execution_count": 5,
   "metadata": {},
   "outputs": [],
   "source": [
    "man_df = pd.DataFrame({'A': [1,1,2,4], 'B': [2,4,1,2], 'C':[3,3,3,3], 'D':[4,2,4,1]})\n",
    "man_df.index = man_list"
   ]
  },
  {
   "cell_type": "code",
   "execution_count": 6,
   "metadata": {},
   "outputs": [
    {
     "data": {
      "text/html": [
       "<div>\n",
       "<style scoped>\n",
       "    .dataframe tbody tr th:only-of-type {\n",
       "        vertical-align: middle;\n",
       "    }\n",
       "\n",
       "    .dataframe tbody tr th {\n",
       "        vertical-align: top;\n",
       "    }\n",
       "\n",
       "    .dataframe thead th {\n",
       "        text-align: right;\n",
       "    }\n",
       "</style>\n",
       "<table border=\"1\" class=\"dataframe\">\n",
       "  <thead>\n",
       "    <tr style=\"text-align: right;\">\n",
       "      <th></th>\n",
       "      <th>A</th>\n",
       "      <th>B</th>\n",
       "      <th>C</th>\n",
       "      <th>D</th>\n",
       "    </tr>\n",
       "  </thead>\n",
       "  <tbody>\n",
       "    <tr>\n",
       "      <th>a</th>\n",
       "      <td>3</td>\n",
       "      <td>3</td>\n",
       "      <td>2</td>\n",
       "      <td>3</td>\n",
       "    </tr>\n",
       "    <tr>\n",
       "      <th>b</th>\n",
       "      <td>4</td>\n",
       "      <td>1</td>\n",
       "      <td>3</td>\n",
       "      <td>2</td>\n",
       "    </tr>\n",
       "    <tr>\n",
       "      <th>c</th>\n",
       "      <td>2</td>\n",
       "      <td>4</td>\n",
       "      <td>4</td>\n",
       "      <td>1</td>\n",
       "    </tr>\n",
       "    <tr>\n",
       "      <th>d</th>\n",
       "      <td>1</td>\n",
       "      <td>2</td>\n",
       "      <td>1</td>\n",
       "      <td>4</td>\n",
       "    </tr>\n",
       "  </tbody>\n",
       "</table>\n",
       "</div>"
      ],
      "text/plain": [
       "   A  B  C  D\n",
       "a  3  3  2  3\n",
       "b  4  1  3  2\n",
       "c  2  4  4  1\n",
       "d  1  2  1  4"
      ]
     },
     "execution_count": 6,
     "metadata": {},
     "output_type": "execute_result"
    }
   ],
   "source": [
    "women_df"
   ]
  },
  {
   "cell_type": "code",
   "execution_count": 7,
   "metadata": {},
   "outputs": [
    {
     "data": {
      "text/html": [
       "<div>\n",
       "<style scoped>\n",
       "    .dataframe tbody tr th:only-of-type {\n",
       "        vertical-align: middle;\n",
       "    }\n",
       "\n",
       "    .dataframe tbody tr th {\n",
       "        vertical-align: top;\n",
       "    }\n",
       "\n",
       "    .dataframe thead th {\n",
       "        text-align: right;\n",
       "    }\n",
       "</style>\n",
       "<table border=\"1\" class=\"dataframe\">\n",
       "  <thead>\n",
       "    <tr style=\"text-align: right;\">\n",
       "      <th></th>\n",
       "      <th>A</th>\n",
       "      <th>B</th>\n",
       "      <th>C</th>\n",
       "      <th>D</th>\n",
       "    </tr>\n",
       "  </thead>\n",
       "  <tbody>\n",
       "    <tr>\n",
       "      <th>a</th>\n",
       "      <td>1</td>\n",
       "      <td>2</td>\n",
       "      <td>3</td>\n",
       "      <td>4</td>\n",
       "    </tr>\n",
       "    <tr>\n",
       "      <th>b</th>\n",
       "      <td>1</td>\n",
       "      <td>4</td>\n",
       "      <td>3</td>\n",
       "      <td>2</td>\n",
       "    </tr>\n",
       "    <tr>\n",
       "      <th>c</th>\n",
       "      <td>2</td>\n",
       "      <td>1</td>\n",
       "      <td>3</td>\n",
       "      <td>4</td>\n",
       "    </tr>\n",
       "    <tr>\n",
       "      <th>d</th>\n",
       "      <td>4</td>\n",
       "      <td>2</td>\n",
       "      <td>3</td>\n",
       "      <td>1</td>\n",
       "    </tr>\n",
       "  </tbody>\n",
       "</table>\n",
       "</div>"
      ],
      "text/plain": [
       "   A  B  C  D\n",
       "a  1  2  3  4\n",
       "b  1  4  3  2\n",
       "c  2  1  3  4\n",
       "d  4  2  3  1"
      ]
     },
     "execution_count": 7,
     "metadata": {},
     "output_type": "execute_result"
    }
   ],
   "source": [
    "man_df"
   ]
  },
  {
   "cell_type": "code",
   "execution_count": 10,
   "metadata": {},
   "outputs": [
    {
     "name": "stdout",
     "output_type": "stream",
     "text": [
      "['a', 'b', 'c', 'd']\n"
     ]
    }
   ],
   "source": [
    "#women_df = pd.DataFrame({'A': [3,4,2,1], 'B': [3,1,4,2], 'C':[2,3,4,1], 'D':[3,2,1,4]})\n",
    "data = [{'A': 0, 'B': 0, 'C':0,'D':0},\n",
    "        {'A': 1, 'B': 4, 'C':2,'D':3},\n",
    "       {'A': 3, 'B': 1, 'C':1,'D':2}, \n",
    "       {'A': 4, 'B': 3, 'C':4,'D':1}]\n",
    "\n",
    "# Creates DataFrame.\n",
    "ranking_df = pd.DataFrame(data)\n",
    "ranking_df.index = man_list\n",
    "mentor_list=ranking_df.index.tolist()\n",
    "ranking_df\n",
    "print(mentor_list)"
   ]
  },
  {
   "cell_type": "code",
   "execution_count": 12,
   "metadata": {},
   "outputs": [
    {
     "data": {
      "text/html": [
       "<div>\n",
       "<style scoped>\n",
       "    .dataframe tbody tr th:only-of-type {\n",
       "        vertical-align: middle;\n",
       "    }\n",
       "\n",
       "    .dataframe tbody tr th {\n",
       "        vertical-align: top;\n",
       "    }\n",
       "\n",
       "    .dataframe thead th {\n",
       "        text-align: right;\n",
       "    }\n",
       "</style>\n",
       "<table border=\"1\" class=\"dataframe\">\n",
       "  <thead>\n",
       "    <tr style=\"text-align: right;\">\n",
       "      <th></th>\n",
       "      <th>A</th>\n",
       "      <th>B</th>\n",
       "      <th>C</th>\n",
       "      <th>D</th>\n",
       "    </tr>\n",
       "  </thead>\n",
       "  <tbody>\n",
       "    <tr>\n",
       "      <th>a</th>\n",
       "      <td>0</td>\n",
       "      <td>0</td>\n",
       "      <td>0</td>\n",
       "      <td>0</td>\n",
       "    </tr>\n",
       "    <tr>\n",
       "      <th>b</th>\n",
       "      <td>1</td>\n",
       "      <td>4</td>\n",
       "      <td>2</td>\n",
       "      <td>3</td>\n",
       "    </tr>\n",
       "    <tr>\n",
       "      <th>c</th>\n",
       "      <td>3</td>\n",
       "      <td>1</td>\n",
       "      <td>1</td>\n",
       "      <td>2</td>\n",
       "    </tr>\n",
       "    <tr>\n",
       "      <th>d</th>\n",
       "      <td>4</td>\n",
       "      <td>3</td>\n",
       "      <td>4</td>\n",
       "      <td>1</td>\n",
       "    </tr>\n",
       "  </tbody>\n",
       "</table>\n",
       "</div>"
      ],
      "text/plain": [
       "   A  B  C  D\n",
       "a  0  0  0  0\n",
       "b  1  4  2  3\n",
       "c  3  1  1  2\n",
       "d  4  3  4  1"
      ]
     },
     "execution_count": 12,
     "metadata": {},
     "output_type": "execute_result"
    }
   ],
   "source": [
    "ranking_df\n",
    "#{('a', 'C'): 3, ('b', 'B'): 4, ('c', 'D'): 2, ('d', 'A'): 4}\n",
    "\n",
    "#{('b', 'B'): 4, ('c', 'D'): 2, ('d', 'A'): 4}"
   ]
  },
  {
   "cell_type": "code",
   "execution_count": 41,
   "metadata": {},
   "outputs": [
    {
     "name": "stdout",
     "output_type": "stream",
     "text": [
      "{'a': ['A', 'B', 'C', 'D'], 'b': ['A', 'B', 'C', 'D'], 'c': ['A', 'B', 'C', 'D'], 'd': ['A', 'B', 'C', 'D']}\n"
     ]
    }
   ],
   "source": [
    "# dict to control which women each man can make proposals\n",
    "women_available = {man:women_list for man in man_list}\n",
    "print(women_available)\n",
    "# waiting list of men that were able to create pair on each iteration\n",
    "waiting_list = []\n",
    "# dict to store created pairs\n",
    "proposals = {}\n",
    "# variable to count number of iterations\n",
    "count = 0"
   ]
  },
  {
   "cell_type": "code",
   "execution_count": 14,
   "metadata": {},
   "outputs": [],
   "source": [
    "#while len(waiting_list)<len(man_list):\n",
    "waiting_list = []\n",
    "no_matches=[]\n",
    "# dict to store created pairs\n",
    "proposals = {}\n",
    "count=0\n",
    "while len(waiting_list)<len(man_list):\n",
    "    # man makes proposals\n",
    "    for mentor in mentor_list:\n",
    "        if mentor not in waiting_list:\n",
    "           \n",
    "            \"\"\"\"\n",
    "            Creates a df with ranking of women that the man can male a proposal too\n",
    "            A    1\n",
    "            B    2\n",
    "            C    3\n",
    "            D    4\n",
    "            Then gets the minimum value i.e. the best choice A\n",
    "            \"\"\"\n",
    "            #best_choice = man_df.loc[man][man_df.loc[man].index.isin(women)].idxmin()\n",
    "            best_choice = ranking_df.loc[mentor].idxmax()\n",
    "            rank=ranking_df.loc[mentor][best_choice]\n",
    "            if rank>0:\n",
    "                # adds to the proposals the man and thier best choice followed by the mans ranking and the womens ranking\n",
    "                proposals[(mentor, best_choice)]=ranking_df.loc[mentor][best_choice]\n",
    "\n",
    "                # if women have more than one proposals \n",
    "                # she will choose the best option\n",
    "                overlays = Counter([key[1] for key in proposals.keys()])\n",
    "\n",
    "\n",
    "                for mentee in overlays.keys():\n",
    "                    if overlays[mentee]>1:\n",
    "\n",
    "                        # pairs to drop from proposals\n",
    "                        # sort by women prefernece\n",
    "                        pairs={pair: proposals[pair] for pair in proposals.keys() \n",
    "                                if mentee in pair}.items()\n",
    "\n",
    "                        pairs_to_drop=sorted(pairs,key=lambda x: x[1])[:-1]\n",
    "\n",
    "\n",
    "                        for p_to_drop in pairs_to_drop:\n",
    "                            # delete proposal\n",
    "                            del proposals[p_to_drop[0]]\n",
    "                            ranking_df.at[p_to_drop[0][0],p_to_drop[0][1]]=0\n",
    "                else:\n",
    "                    no_matches.append(mentor)\n",
    "                    \n",
    "                # man who successfully created pairs must be added to the waiting list \n",
    "                waiting_list = [pair[1] for pair in proposals.keys()]+no_matches\n",
    "                    \n",
    "    count+=1\n"
   ]
  },
  {
   "cell_type": "code",
   "execution_count": 15,
   "metadata": {},
   "outputs": [
    {
     "data": {
      "text/plain": [
       "{('b', 'B'): 4, ('c', 'D'): 2, ('d', 'A'): 4}"
      ]
     },
     "execution_count": 15,
     "metadata": {},
     "output_type": "execute_result"
    }
   ],
   "source": [
    "proposals"
   ]
  },
  {
   "cell_type": "code",
   "execution_count": null,
   "metadata": {},
   "outputs": [],
   "source": []
  },
  {
   "cell_type": "code",
   "execution_count": 61,
   "metadata": {},
   "outputs": [
    {
     "name": "stdout",
     "output_type": "stream",
     "text": [
      "3 2\n",
      "Counter({'C': 1})\n",
      "2 2\n",
      "Counter({'C': 1, 'D': 1})\n",
      "2 2\n",
      "Counter({'C': 1, 'D': 1, 'A': 1})\n",
      "2 2\n",
      "Counter({'C': 1, 'D': 1, 'A': 1, 'B': 1})\n",
      "3 2\n",
      "Counter({'C': 1, 'D': 1, 'A': 1, 'B': 1})\n",
      "2 2\n",
      "Counter({'C': 1, 'D': 1, 'A': 1, 'B': 1})\n",
      "2 2\n",
      "Counter({'C': 1, 'D': 1, 'A': 1, 'B': 1})\n",
      "2 2\n",
      "Counter({'C': 1, 'D': 1, 'A': 1, 'B': 1})\n",
      "3 2\n",
      "Counter({'C': 1, 'D': 1, 'A': 1, 'B': 1})\n",
      "2 2\n",
      "Counter({'C': 1, 'D': 1, 'A': 1, 'B': 1})\n",
      "2 2\n",
      "Counter({'C': 1, 'D': 1, 'A': 1, 'B': 1})\n",
      "2 2\n",
      "Counter({'C': 1, 'D': 1, 'A': 1, 'B': 1})\n",
      "3 2\n",
      "Counter({'C': 1, 'D': 1, 'A': 1, 'B': 1})\n",
      "2 2\n",
      "Counter({'C': 1, 'D': 1, 'A': 1, 'B': 1})\n",
      "2 2\n",
      "Counter({'C': 1, 'D': 1, 'A': 1, 'B': 1})\n",
      "2 2\n",
      "Counter({'C': 1, 'D': 1, 'A': 1, 'B': 1})\n",
      "3 2\n",
      "Counter({'C': 1, 'D': 1, 'A': 1, 'B': 1})\n",
      "2 2\n",
      "Counter({'C': 1, 'D': 1, 'A': 1, 'B': 1})\n",
      "2 2\n",
      "Counter({'C': 1, 'D': 1, 'A': 1, 'B': 1})\n",
      "2 2\n",
      "Counter({'C': 1, 'D': 1, 'A': 1, 'B': 1})\n",
      "3 2\n",
      "Counter({'C': 1, 'D': 1, 'A': 1, 'B': 1})\n",
      "2 2\n",
      "Counter({'C': 1, 'D': 1, 'A': 1, 'B': 1})\n",
      "2 2\n",
      "Counter({'C': 1, 'D': 1, 'A': 1, 'B': 1})\n",
      "2 2\n",
      "Counter({'C': 1, 'D': 1, 'A': 1, 'B': 1})\n",
      "3 2\n",
      "Counter({'C': 1, 'D': 1, 'A': 1, 'B': 1})\n",
      "2 2\n",
      "Counter({'C': 1, 'D': 1, 'A': 1, 'B': 1})\n",
      "2 2\n",
      "Counter({'C': 1, 'D': 1, 'A': 1, 'B': 1})\n",
      "2 2\n",
      "Counter({'C': 1, 'D': 1, 'A': 1, 'B': 1})\n",
      "3 2\n",
      "Counter({'C': 1, 'D': 1, 'A': 1, 'B': 1})\n",
      "2 2\n",
      "Counter({'C': 1, 'D': 1, 'A': 1, 'B': 1})\n",
      "2 2\n",
      "Counter({'C': 1, 'D': 1, 'A': 1, 'B': 1})\n",
      "2 2\n",
      "Counter({'C': 1, 'D': 1, 'A': 1, 'B': 1})\n",
      "3 2\n",
      "Counter({'C': 1, 'D': 1, 'A': 1, 'B': 1})\n",
      "2 2\n",
      "Counter({'C': 1, 'D': 1, 'A': 1, 'B': 1})\n",
      "2 2\n",
      "Counter({'C': 1, 'D': 1, 'A': 1, 'B': 1})\n",
      "2 2\n",
      "Counter({'C': 1, 'D': 1, 'A': 1, 'B': 1})\n",
      "3 2\n",
      "Counter({'C': 1, 'D': 1, 'A': 1, 'B': 1})\n",
      "2 2\n",
      "Counter({'C': 1, 'D': 1, 'A': 1, 'B': 1})\n",
      "2 2\n",
      "Counter({'C': 1, 'D': 1, 'A': 1, 'B': 1})\n",
      "2 2\n",
      "Counter({'C': 1, 'D': 1, 'A': 1, 'B': 1})\n"
     ]
    }
   ],
   "source": [
    "#while len(waiting_list)<len(man_list):\n",
    "count=0\n",
    "while count<10:\n",
    "    # man makes proposals\n",
    "    for man in man_list:\n",
    "        if man not in waiting_list:\n",
    "            # each man make proposal to the top women from it's list\n",
    "            women = women_available[man]\n",
    "            \"\"\"\"\n",
    "            Creates a df with ranking of women that the man can male a proposal too\n",
    "            A    1\n",
    "            B    2\n",
    "            C    3\n",
    "            D    4\n",
    "            Then gets the minimum value i.e. the best choice A\n",
    "            \"\"\"\n",
    "            best_choice = man_df.loc[man][man_df.loc[man].index.isin(women)].idxmin()\n",
    "            print(man_df.loc[man][best_choice],women_df.loc[man][best_choice])\n",
    "            # adds to the proposals the man and thier best choice followed by the mans ranking and the womens ranking\n",
    "            proposals[(man, best_choice)]=(man_df.loc[man][best_choice],women_df.loc[man][best_choice])\n",
    "\n",
    "            # if women have more than one proposals \n",
    "            # she will choose the best option\n",
    "            overlays = Counter([key[1] for key in proposals.keys()])\n",
    "            \n",
    "            print(overlays)\n",
    "            for women in overlays.keys():\n",
    "                if overlays[women]>1:\n",
    "                    \n",
    "                    # pairs to drop from proposals\n",
    "                    # sort by women prefernece\n",
    "                    pairs_to_drop = sorted({pair: proposals[pair] for pair in proposals.keys() \n",
    "                            if women in pair}.items(), \n",
    "                           key=lambda x: x[1][1]\n",
    "                          )[1:]\n",
    "                    print(pairs_to_drop)\n",
    "                    \n",
    "                    \n",
    "                    for p_to_drop in pairs_to_drop:\n",
    "                        # delete proposal\n",
    "                        del proposals[p_to_drop[0]]\n",
    "                        # copy the man's women_aviablabe \n",
    "                        _women = copy(women_available[p_to_drop[0][0]])\n",
    "                        # remove the women from the list\n",
    "                        _women.remove(p_to_drop[0][1])\n",
    "                        # update with dropped list\n",
    "                        women_available[p_to_drop[0][0]] = _women\n",
    "                    \n",
    "                    \n",
    "                    # man who successfully created pairs must be added to the waiting list \n",
    "                    waiting_list = [man[0] for man in proposals.keys()]\n",
    "                    \n",
    "                    print(proposals)\n",
    "                    print(\"Hey\")\n",
    "                    \n",
    "    count+=1"
   ]
  },
  {
   "cell_type": "code",
   "execution_count": 43,
   "metadata": {},
   "outputs": [
    {
     "data": {
      "text/plain": [
       "{('b', 'D'): (2, 2),\n",
       " ('d', 'B'): (2, 2),\n",
       " ('c', 'A'): (2, 2),\n",
       " ('a', 'C'): (3, 2)}"
      ]
     },
     "execution_count": 43,
     "metadata": {},
     "output_type": "execute_result"
    }
   ],
   "source": [
    "proposals"
   ]
  },
  {
   "cell_type": "code",
   "execution_count": null,
   "metadata": {},
   "outputs": [],
   "source": [
    "#if mentees >mentors\n",
    "    # stop when all mentors are taking up"
   ]
  },
  {
   "cell_type": "code",
   "execution_count": 87,
   "metadata": {},
   "outputs": [
    {
     "name": "stdout",
     "output_type": "stream",
     "text": [
      "['zero', 'one', 'two']\n"
     ]
    }
   ],
   "source": [
    "a_list = ['zero', 'one', 'two', 'three']\n",
    "a_list[-1]\n",
    "print(a_list[:-1])"
   ]
  },
  {
   "cell_type": "code",
   "execution_count": null,
   "metadata": {},
   "outputs": [],
   "source": []
  }
 ],
 "metadata": {
  "kernelspec": {
   "display_name": "Python 3",
   "language": "python",
   "name": "python3"
  },
  "language_info": {
   "codemirror_mode": {
    "name": "ipython",
    "version": 3
   },
   "file_extension": ".py",
   "mimetype": "text/x-python",
   "name": "python",
   "nbconvert_exporter": "python",
   "pygments_lexer": "ipython3",
   "version": "3.9.1"
  }
 },
 "nbformat": 4,
 "nbformat_minor": 4
}
