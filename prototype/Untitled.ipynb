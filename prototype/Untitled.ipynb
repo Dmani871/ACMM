{
 "cells": [
  {
   "cell_type": "code",
   "execution_count": 1,
   "metadata": {},
   "outputs": [
    {
     "name": "stdout",
     "output_type": "stream",
     "text": [
      "[('Personal Statement', 'Personal Statement'), ('Interview', 'Interview'), ('Entrance Exam', 'Entrance Exam')]\n"
     ]
    }
   ],
   "source": [
    "SPECIALTY_CHOICES= [\n",
    "    ('Personal Statement', 'Personal Statement'),\n",
    "    ('Interview', 'Interview'),\n",
    "    ('Entrance Exam', 'Entrance Exam'),\n",
    "    ('Work Experience', 'Work Experience'),\n",
    "    ('Choosing a University', 'Choosing a University ')]\n",
    "f=SPECIALTY_CHOICES[:-2]\n",
    "print(f)"
   ]
  },
  {
   "cell_type": "code",
   "execution_count": null,
   "metadata": {},
   "outputs": [],
   "source": []
  }
 ],
 "metadata": {
  "kernelspec": {
   "display_name": "Python 3",
   "language": "python",
   "name": "python3"
  },
  "language_info": {
   "codemirror_mode": {
    "name": "ipython",
    "version": 3
   },
   "file_extension": ".py",
   "mimetype": "text/x-python",
   "name": "python",
   "nbconvert_exporter": "python",
   "pygments_lexer": "ipython3",
   "version": "3.8.3"
  }
 },
 "nbformat": 4,
 "nbformat_minor": 4
}
